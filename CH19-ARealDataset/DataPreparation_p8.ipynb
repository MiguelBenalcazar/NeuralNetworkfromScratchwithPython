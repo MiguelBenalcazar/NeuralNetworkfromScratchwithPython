{
 "cells": [
  {
   "cell_type": "code",
   "execution_count": 1,
   "id": "81f732f7",
   "metadata": {},
   "outputs": [],
   "source": [
    "URL = 'https://nnfs.io/datasets/fashion_mnist_images.zip'\n",
    "FILE = 'fashion_mnist_images.zip'\n",
    "FOLDER = 'fashion_mnist_images'"
   ]
  },
  {
   "cell_type": "markdown",
   "id": "7d4c38f8",
   "metadata": {},
   "source": [
    "DOWNLOAD THE COMPRESS DATA"
   ]
  },
  {
   "cell_type": "code",
   "execution_count": 5,
   "id": "8c4749e0",
   "metadata": {},
   "outputs": [],
   "source": [
    "import os\n",
    "import urllib\n",
    "import urllib.request\n",
    "import ssl\n",
    "\n",
    "\n",
    "ssl._create_default_https_context = ssl._create_unverified_context\n",
    "\n",
    "if not os.path.isfile(FILE):\n",
    "    print(f'Downloading {URL} and saving as {FILE}...')\n",
    "    urllib.request.urlretrieve(URL, FILE)\n"
   ]
  },
  {
   "cell_type": "markdown",
   "id": "e330149d",
   "metadata": {},
   "source": [
    "EXTRACT DATA"
   ]
  },
  {
   "cell_type": "code",
   "execution_count": 7,
   "id": "48e53789",
   "metadata": {},
   "outputs": [
    {
     "name": "stdout",
     "output_type": "stream",
     "text": [
      "Unzipping images ..\n",
      "DONE\n"
     ]
    }
   ],
   "source": [
    "from zipfile import ZipFile\n",
    "\n",
    "print('Unzipping images ..')\n",
    "with ZipFile(FILE) as zip_images:\n",
    "    zip_images.extractall(FOLDER)\n",
    "\n",
    "print('DONE')"
   ]
  },
  {
   "cell_type": "markdown",
   "id": "d32b0856",
   "metadata": {},
   "source": [
    "DATA LOADING"
   ]
  },
  {
   "cell_type": "code",
   "execution_count": 11,
   "id": "0acc9b72",
   "metadata": {},
   "outputs": [
    {
     "name": "stdout",
     "output_type": "stream",
     "text": [
      "['0', '1', '2', '3', '4', '5', '6', '7', '8', '9']\n",
      "['0000.png', '0001.png', '0002.png', '0003.png', '0004.png', '0005.png', '0006.png', '0007.png', '0008.png', '0009.png']\n",
      "6000\n"
     ]
    }
   ],
   "source": [
    "import os\n",
    "\n",
    "labels = os.listdir('fashion_mnist_images/train')\n",
    "print(labels)\n",
    "\n",
    "files = os.listdir('fashion_mnist_images/train/0')\n",
    "print(files[:10])\n",
    "print(len(files))"
   ]
  },
  {
   "cell_type": "code",
   "execution_count": 20,
   "id": "110ba0f1",
   "metadata": {},
   "outputs": [
    {
     "name": "stdout",
     "output_type": "stream",
     "text": [
      "[[  0   0   0   0   0   0   0   0   0   0   0   0   0   0   0   0   0   0   0   0   0   0   0   0   0   0   0   0]\n",
      " [  0   0   0   0   0   0   0   0   0   0   0   0   0   0   0   0   0   0   0   0   0   0   0   0   0   0   0   0]\n",
      " [  0   0   0   0   0   0   0   0   0   0   0   0   0   0   0   0   0   0   0   0   0   0   0   0   0   0   0   0]\n",
      " [  0   0   0   0   0   0   0   0   0   0   0   0   0   0   0   0   0   0   0   0   0   0   0   0   0   0   0   0]\n",
      " [  0   0   0   0   0   0   0   0   0   0   0   0   0   0   0   0   0   0   0   0   0   0   0   0   0   0   0   0]\n",
      " [  0   0   0   0   0   0   0   0   0   0   0   0   0   0   0   0   0   0   0   0   0   0   0   0   0   0   0   0]\n",
      " [  0   0   0   0   0   0   0   0   0   0   0   0   0   0   0   0   0   0   0   0   0   0   0   0   0   0   0   0]\n",
      " [  0   0   0   0   0   0   0   0   0   0   0   0   0   1   0   0   0  49 135 182 150  59   0   0   0   0   0   0]\n",
      " [  0   0   0   0   0   0   0   0   0   0   0   0   0   0   0   0  78 255 220 212 219 255 246 191 155  87   0   0]\n",
      " [  0   0   0   0   0   0   0   0   0   0   0   0   1   0   0  57 206 215 203 191 203 212 216 217 220 211  15   0]\n",
      " [  0   0   0   0   0   0   0   0   0   0   1   0   0   0  58 231 220 210 199 209 218 218 217 208 200 215  56   0]\n",
      " [  0   0   0   0   1   2   0   0   4   0   0   0   0 145 213 207 199 187 203 210 216 217 215 215 206 215 130   0]\n",
      " [  0   0   0   0   1   2   4   0   0   0   3 105 225 205 190 201 210 214 213 215 215 212 211 208 205 207 218   0]\n",
      " [  1   5   7   0   0   0   0   0  52 162 217 189 174 157 187 198 202 217 220 223 224 222 217 211 217 201 247  65]\n",
      " [  0   0   0   0   0   0  21  72 185 189 171 171 185 203 200 207 208 209 214 219 222 222 224 215 218 211 212 148]\n",
      " [  0  70 114 129 145 159 179 196 172 176 185 196 199 206 201 210 212 213 216 218 219 217 212 207 208 200 198 173]\n",
      " [  0 122 158 184 194 192 193 196 203 209 211 211 215 218 221 222 226 227 227 226 226 223 222 216 211 208 216 185]\n",
      " [ 21   0   0  12  48  82 123 152 170 184 195 211 225 232 233 237 242 242 240 240 238 236 222 209 200 193 185 106]\n",
      " [ 26  47  54  18   5   0   0   0   0   0   0   0   0   0   2   4   6   9   9   8   9   6   6   4   2   0   0   0]\n",
      " [  0  10  27  45  55  59  57  50  44  51  58  62  65  56  54  57  59  61  60  63  68  67  66  73  77  74  65  39]\n",
      " [  0   0   0   0   4   9  18  23  26  25  23  25  29  37  38  37  39  36  29  31  33  34  28  24  20  14   7   0]\n",
      " [  0   0   0   0   0   0   0   0   0   0   0   0   0   0   0   0   0   0   0   0   0   0   0   0   0   0   0   0]\n",
      " [  0   0   0   0   0   0   0   0   0   0   0   0   0   0   0   0   0   0   0   0   0   0   0   0   0   0   0   0]\n",
      " [  0   0   0   0   0   0   0   0   0   0   0   0   0   0   0   0   0   0   0   0   0   0   0   0   0   0   0   0]\n",
      " [  0   0   0   0   0   0   0   0   0   0   0   0   0   0   0   0   0   0   0   0   0   0   0   0   0   0   0   0]\n",
      " [  0   0   0   0   0   0   0   0   0   0   0   0   0   0   0   0   0   0   0   0   0   0   0   0   0   0   0   0]\n",
      " [  0   0   0   0   0   0   0   0   0   0   0   0   0   0   0   0   0   0   0   0   0   0   0   0   0   0   0   0]\n",
      " [  0   0   0   0   0   0   0   0   0   0   0   0   0   0   0   0   0   0   0   0   0   0   0   0   0   0   0   0]]\n"
     ]
    }
   ],
   "source": [
    "import cv2\n",
    "\n",
    "image_data = cv2.imread('fashion_mnist_images/train/7/0002.png', cv2.IMREAD_UNCHANGED)\n",
    "print(image_data)"
   ]
  },
  {
   "cell_type": "code",
   "execution_count": 21,
   "id": "2fe8a2a3",
   "metadata": {},
   "outputs": [
    {
     "data": {
      "image/png": "[encoded data removed]",
      "text/plain": [
       "<Figure size 432x288 with 1 Axes>"
      ]
     },
     "metadata": {
      "needs_background": "light"
     },
     "output_type": "display_data"
    },
    {
     "data": {
      "image/png": "[encoded data removed]",
      "text/plain": [
       "<Figure size 432x288 with 1 Axes>"
      ]
     },
     "metadata": {
      "needs_background": "light"
     },
     "output_type": "display_data"
    }
   ],
   "source": [
    "import matplotlib.pyplot as plt\n",
    "import numpy as np\n",
    "np.set_printoptions(linewidth=200)\n",
    "\n",
    "plt.imshow(image_data)\n",
    "plt.show()\n",
    "\n",
    "image_data = cv2.imread(\n",
    "    'fashion_mnist_images/train/4/0011.png', cv2.IMREAD_UNCHANGED)\n",
    "plt.imshow(image_data)\n",
    "plt.show()\n"
   ]
  },
  {
   "cell_type": "markdown",
   "id": "f808bb13",
   "metadata": {},
   "source": [
    " \n",
    "DATA ITERATION\n",
    "iterate over all of the samples, load them, and put them into the input data (X) and\n",
    "targets (y) lists"
   ]
  },
  {
   "cell_type": "code",
   "execution_count": 22,
   "id": "7b8a797a",
   "metadata": {},
   "outputs": [
    {
     "name": "stdout",
     "output_type": "stream",
     "text": [
      "['0', '1', '2', '3', '4', '5', '6', '7', '8', '9']\n"
     ]
    }
   ],
   "source": [
    "# Scan all the directories and create a list of labels\n",
    "labels = os.listdir('fashion_mnist_images/train')\n",
    "print(labels)\n",
    "\n",
    "# Create lists for samples and labels\n",
    "X = []\n",
    "y = []\n",
    "\n",
    "# For each label folder\n",
    "for label in labels:\n",
    "    # And for each image in given folder\n",
    "    for file in os.listdir(os.path.join('fashion_mnist_images', 'train', label)):\n",
    "        # Read the image\n",
    "        image = cv2.imread(os.path.join('fashion_mnist_images/train', label, file), cv2.IMREAD_UNCHANGED)\n",
    "        \n",
    "        # And append it and a label to the lists\n",
    "        X.append(image)\n",
    "        y.append(label)\n"
   ]
  },
  {
   "cell_type": "markdown",
   "id": "dca52eac",
   "metadata": {},
   "source": [
    "FUNCTIONS"
   ]
  },
  {
   "cell_type": "code",
   "execution_count": 23,
   "id": "5648748c",
   "metadata": {},
   "outputs": [],
   "source": [
    "import numpy as np\n",
    "import cv2\n",
    "import os\n"
   ]
  },
  {
   "cell_type": "markdown",
   "id": "1252f13c",
   "metadata": {},
   "source": [
    " Loads a MNIST dataset"
   ]
  },
  {
   "cell_type": "code",
   "execution_count": 25,
   "id": "d748fada",
   "metadata": {},
   "outputs": [],
   "source": [
    "def load_mnist_dataset(dataset, path):\n",
    "\n",
    "    # Scan all the directories and create a list of labels\n",
    "    labels = os.listdir(os.path.join(path, dataset))\n",
    "    # Create lists for samples and labels\n",
    "    X = []\n",
    "    y = []\n",
    "    # For each label folder\n",
    "    for label in labels:\n",
    "    # And for each image in given folder\n",
    "        for file in os.listdir(os.path.join(path, dataset, label)):\n",
    "            # Read the image\n",
    "            image = cv2.imread(os.path.join(path, dataset, label, file), cv2.IMREAD_UNCHANGED)\n",
    "            # And append it and a label to the lists\n",
    "            X.append(image)\n",
    "            y.append(label)\n",
    "    # Convert the data to proper numpy arrays and return\n",
    "    return np.array(X), np.array(y).astype('uint8')\n"
   ]
  },
  {
   "cell_type": "markdown",
   "id": "42175a73",
   "metadata": {},
   "source": [
    "MNIST dataset (train + test)"
   ]
  },
  {
   "cell_type": "code",
   "execution_count": 26,
   "id": "b18a80b3",
   "metadata": {},
   "outputs": [],
   "source": [
    "def create_data_mnist(path):\n",
    "    # Load both sets separately\n",
    "    X, y = load_mnist_dataset('train', path)\n",
    "    X_test, y_test = load_mnist_dataset('test', path)\n",
    "    # And return all the data\n",
    "    return X, y, X_test, y_test\n"
   ]
  },
  {
   "cell_type": "markdown",
   "id": "2b69d8d7",
   "metadata": {},
   "source": [
    " Create dataset"
   ]
  },
  {
   "cell_type": "code",
   "execution_count": 27,
   "id": "5d8f0472",
   "metadata": {},
   "outputs": [],
   "source": [
    "X, y, X_test, y_test = create_data_mnist('fashion_mnist_images')"
   ]
  },
  {
   "cell_type": "markdown",
   "id": "3bc5674c",
   "metadata": {},
   "source": [
    "DATA PREPROCESSING range [-1,1]"
   ]
  },
  {
   "cell_type": "code",
   "execution_count": 30,
   "id": "cfa64cc9",
   "metadata": {},
   "outputs": [
    {
     "name": "stdout",
     "output_type": "stream",
     "text": [
      "-1.0079046 -1.0077816\n",
      "(60000, 28, 28)\n"
     ]
    }
   ],
   "source": [
    "# Scale features\n",
    "X = (X.astype(np.float32) - 127.5) / 127.5\n",
    "X_test = (X_test.astype(np.float32) - 127.5) / 127.5\n",
    "\n",
    "print(X.min(), X.max())\n",
    "print(X.shape)\n",
    "\n"
   ]
  },
  {
   "cell_type": "markdown",
   "id": "9eebbd45",
   "metadata": {},
   "source": [
    "RESHAPE IMAGES FROM 2D 28X28 TO 1D 1X784"
   ]
  },
  {
   "cell_type": "code",
   "execution_count": 33,
   "id": "986e6df2",
   "metadata": {},
   "outputs": [
    {
     "name": "stdout",
     "output_type": "stream",
     "text": [
      "[[1 2]\n",
      " [3 4]]\n",
      "(2, 2)\n",
      "[1 2 3 4]\n",
      "(4,)\n"
     ]
    }
   ],
   "source": [
    "example = np.array([[1,2],[3,4]])\n",
    "flattened = example.reshape(-1)\n",
    "\n",
    "print(example)\n",
    "print(example.shape)\n",
    "\n",
    "print(flattened)\n",
    "print(flattened.shape)"
   ]
  },
  {
   "cell_type": "code",
   "execution_count": 34,
   "id": "c554b200",
   "metadata": {},
   "outputs": [],
   "source": [
    "# Reshape to vectors\n",
    "X = X.reshape(X.shape[0], -1)\n",
    "X_test = X_test.reshape(X_test.shape[0], -1)\n"
   ]
  },
  {
   "cell_type": "markdown",
   "id": "4b104418",
   "metadata": {},
   "source": [
    "DATA SHUFFLING"
   ]
  },
  {
   "cell_type": "code",
   "execution_count": 36,
   "id": "d5c48d80",
   "metadata": {},
   "outputs": [
    {
     "name": "stdout",
     "output_type": "stream",
     "text": [
      "[0 0 0 0 0 0 0 0 0 0]\n",
      "[1 1 1 1 1 1 1 1 1 1]\n"
     ]
    }
   ],
   "source": [
    "print(y[0:10])\n",
    "print(y[6000:6010])"
   ]
  },
  {
   "cell_type": "code",
   "execution_count": 37,
   "id": "3e1e818b",
   "metadata": {},
   "outputs": [
    {
     "name": "stdout",
     "output_type": "stream",
     "text": [
      "[0 1 2 3 4 5 6 7 8 9]\n"
     ]
    }
   ],
   "source": [
    "keys = np.array(range(X.shape[0]))\n",
    "print(keys[:10])"
   ]
  },
  {
   "cell_type": "code",
   "execution_count": 38,
   "id": "f8e169e1",
   "metadata": {},
   "outputs": [
    {
     "name": "stdout",
     "output_type": "stream",
     "text": [
      "[ 3048 19563 58303  8870 40228 31488 21860 56864   845 25770]\n"
     ]
    }
   ],
   "source": [
    "import nnfs\n",
    "nnfs.init()\n",
    "np.random.shuffle(keys)\n",
    "print(keys[:10])"
   ]
  },
  {
   "cell_type": "code",
   "execution_count": 52,
   "id": "cf7b7dac",
   "metadata": {},
   "outputs": [
    {
     "name": "stdout",
     "output_type": "stream",
     "text": [
      "[8 2 5 5 8 5 3 6 0 5 3 8 2 1 3]\n"
     ]
    },
    {
     "data": {
      "image/png": "[encoded data removed]",
      "text/plain": [
       "<Figure size 432x288 with 1 Axes>"
      ]
     },
     "metadata": {
      "needs_background": "light"
     },
     "output_type": "display_data"
    },
    {
     "name": "stdout",
     "output_type": "stream",
     "text": [
      "8\n"
     ]
    }
   ],
   "source": [
    "X = X[keys]\n",
    "y = y[keys]\n",
    "\n",
    "print(y[:15])\n",
    "\n",
    "import matplotlib.pyplot as plt\n",
    "plt.imshow((X[4].reshape(28, 28))) # Reshape as image is a vector already\n",
    "plt.show()\n",
    "\n",
    "print(y[4])\n",
    "\n"
   ]
  },
  {
   "cell_type": "code",
   "execution_count": 56,
   "id": "da394012",
   "metadata": {},
   "outputs": [],
   "source": [
    "BATCH_SIZE = 8\n",
    "steps = X.shape[0] // BATCH_SIZE # the integer division operator, //\n",
    "\n",
    "if steps * BATCH_SIZE < X.shape[0]:\n",
    "    steps += 1\n"
   ]
  },
  {
   "cell_type": "code",
   "execution_count": 57,
   "id": "8c0e23c8",
   "metadata": {},
   "outputs": [
    {
     "name": "stdout",
     "output_type": "stream",
     "text": [
      "2\n"
     ]
    }
   ],
   "source": [
    "batch_size = 2\n",
    "X = [1, 2, 3, 4]\n",
    "print(len(X) // batch_size)"
   ]
  },
  {
   "cell_type": "code",
   "execution_count": 58,
   "id": "20bec1ea",
   "metadata": {},
   "outputs": [
    {
     "name": "stdout",
     "output_type": "stream",
     "text": [
      "2\n"
     ]
    }
   ],
   "source": [
    "X = [1, 2, 3, 4, 5]\n",
    "print(len(X) // batch_size)"
   ]
  },
  {
   "cell_type": "code",
   "execution_count": 63,
   "id": "fb91a2ce",
   "metadata": {},
   "outputs": [
    {
     "name": "stdout",
     "output_type": "stream",
     "text": [
      "Steps: 2, XShape: 300, BatchSize: 128\n",
      "Epoch: 0, Step: 0\n",
      "Epoch: 0, Step: 1\n",
      "Epoch: 0, Step: 2\n",
      "Epoch: 1, Step: 0\n",
      "Epoch: 1, Step: 1\n",
      "Epoch: 1, Step: 2\n",
      "Epoch: 2, Step: 0\n",
      "Epoch: 2, Step: 1\n",
      "Epoch: 2, Step: 2\n",
      "Epoch: 3, Step: 0\n",
      "Epoch: 3, Step: 1\n",
      "Epoch: 3, Step: 2\n",
      "Epoch: 4, Step: 0\n",
      "Epoch: 4, Step: 1\n",
      "Epoch: 4, Step: 2\n",
      "Epoch: 5, Step: 0\n",
      "Epoch: 5, Step: 1\n",
      "Epoch: 5, Step: 2\n",
      "Epoch: 6, Step: 0\n",
      "Epoch: 6, Step: 1\n",
      "Epoch: 6, Step: 2\n",
      "Epoch: 7, Step: 0\n",
      "Epoch: 7, Step: 1\n",
      "Epoch: 7, Step: 2\n",
      "Epoch: 8, Step: 0\n",
      "Epoch: 8, Step: 1\n",
      "Epoch: 8, Step: 2\n",
      "Epoch: 9, Step: 0\n",
      "Epoch: 9, Step: 1\n",
      "Epoch: 9, Step: 2\n",
      "Epoch: 10, Step: 0\n",
      "Epoch: 10, Step: 1\n",
      "Epoch: 10, Step: 2\n",
      "Epoch: 11, Step: 0\n",
      "Epoch: 11, Step: 1\n",
      "Epoch: 11, Step: 2\n",
      "Epoch: 12, Step: 0\n",
      "Epoch: 12, Step: 1\n",
      "Epoch: 12, Step: 2\n",
      "Epoch: 13, Step: 0\n",
      "Epoch: 13, Step: 1\n",
      "Epoch: 13, Step: 2\n",
      "Epoch: 14, Step: 0\n",
      "Epoch: 14, Step: 1\n",
      "Epoch: 14, Step: 2\n"
     ]
    }
   ],
   "source": [
    "import nnfs\n",
    "from nnfs.datasets import spiral_data\n",
    "nnfs.init()\n",
    "# Create dataset\n",
    "X, y = spiral_data(samples=100, classes=3)\n",
    "EPOCHS = 15\n",
    "BATCH_SIZE = 128 # We take 128 samples at once\n",
    "# Calculate number of steps\n",
    "steps = X.shape[0] // BATCH_SIZE\n",
    "print('Steps: {}, XShape: {}, BatchSize: {}'.format(steps, X.shape[0],  BATCH_SIZE))\n",
    "# Dividing rounds down. If there are some remaining data,\n",
    "# but not a full batch, this won't include it.\n",
    "# Add 1 to include the remaining samples in 1 more step.\n",
    "if steps * BATCH_SIZE < X.shape[0]:\n",
    "    steps += 1\n",
    "\n",
    "for epoch in range(EPOCHS):\n",
    "    for step in range(steps):\n",
    "        print('Epoch: {}, Step: {}'.format(epoch, step))\n",
    "        batch_X = X[step*BATCH_SIZE:(step+1)*BATCH_SIZE]\n",
    "        batch_y = y[step*BATCH_SIZE:(step+1)*BATCH_SIZE]\n",
    "        # Now we perform forward pass, loss calculation,\n",
    "        # backward pass and update parameters\n",
    "\n"
   ]
  }
 ],
 "metadata": {
  "kernelspec": {
   "display_name": "Python 3 (ipykernel)",
   "language": "python",
   "name": "python3"
  },
  "language_info": {
   "codemirror_mode": {
    "name": "ipython",
    "version": 3
   },
   "file_extension": ".py",
   "mimetype": "text/x-python",
   "name": "python",
   "nbconvert_exporter": "python",
   "pygments_lexer": "ipython3",
   "version": "3.9.7"
  }
 },
 "nbformat": 4,
 "nbformat_minor": 5
}
