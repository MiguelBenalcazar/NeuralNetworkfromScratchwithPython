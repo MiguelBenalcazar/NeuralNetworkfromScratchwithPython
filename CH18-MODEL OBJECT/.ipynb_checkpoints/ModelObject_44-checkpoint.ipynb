{
 "cells": [
  {
   "cell_type": "code",
   "execution_count": 2,
   "id": "50d8c5cf",
   "metadata": {},
   "outputs": [],
   "source": [
    "import numpy as np \n",
    "import nnfs\n",
    "from nnfs.datasets import sine_data, spiral_data \n",
    "nnfs.init()"
   ]
  },
  {
   "cell_type": "code",
   "execution_count": null,
   "id": "afd85698",
   "metadata": {},
   "outputs": [],
   "source": [
    "# Dense layer\n",
    "class Layer_Dense:\n",
    "\n",
    "    # Layer initialization\n",
    "    def init(self, n_inputs, n_neurons, weight_regularizer_l1=0, weight_regularizer_l2=0, bias_regularizer_l1=0,\n",
    "             bias_regularizer_l2=0):\n",
    "        # Initialize weights and biases\n",
    "        self.weights = 0.01 * np.random.randn(n_inputs, n_neurons)\n",
    "        self.biases = np.zeros((1, n_neurons))\n",
    "\n",
    "        # Set regularization strength\n",
    "        self.weight_regularizer_l1 = weight_regularizer_l1\n",
    "        self.weight_regularizer_l2 = weight_regularizer_l2\n",
    "        self.bias_regularizer_l1 = bias_regularizer_l1\n",
    "        self.bias_regularizer_l2 = bias_regularizer_l2\n",
    "\n",
    "    # Forward pass\n",
    "\n",
    "    def forward(self, inputs, training):\n",
    "        # Remember input values\n",
    "        self.inputs = inputs\n",
    "        # # Calculate output values from inputs, weights and biases\n",
    "        self.output = np.dot(inputs, self.weights) + self.biases\n",
    "        # Backward pass\n",
    "\n",
    "\n",
    "def backward(self, dvalues):\n",
    "    # Gradients on parameters\n",
    "    self.dweights = np.dot(self.inputs.T, dvalues)\n",
    "    self.dbiases = np.sum(dvalues, axis=0, keepdims=True)\n",
    "    \n",
    "    # Gradients on regularization\n",
    "    # L1 on weights\n",
    "    if self.weight_regularizer_l1 > 0:\n",
    "        dL1 = np.ones_like(self.weights)\n",
    "        dL1[self.weights < 0] = -1\n",
    "        self.dweights += self.weight_regularizer_l1 * dL1\n",
    "    # L2 on weights\n",
    "    if self.weight_regularizer_l2 > 0:\n",
    "        self.dweights += 2 * self.weight_regularizer_l2 * self.weights\n",
    "    # L1 on biases\n",
    "    if self.bias_regularizer_l1 > 0:\n",
    "        dL1 = np.ones_like(self.biases)\n",
    "        dL1[self.biases < 0] = -1\n",
    "        self.dbiases += self.bias_regularizer_l1 * dL1\n",
    "    # L2 on biases\n",
    "    if self.bias_regularizer_l2 > 0:\n",
    "        self.dbiases += 2 * self.bias_regularizer_l2 * self.biases\n",
    "    \n",
    "    # Gradient on value\n",
    "    self.dinputs = np.dot(dvalues, self.weights.T)\n"
   ]
  }
 ],
 "metadata": {
  "kernelspec": {
   "display_name": "Python 3 (ipykernel)",
   "language": "python",
   "name": "python3"
  },
  "language_info": {
   "codemirror_mode": {
    "name": "ipython",
    "version": 3
   },
   "file_extension": ".py",
   "mimetype": "text/x-python",
   "name": "python",
   "nbconvert_exporter": "python",
   "pygments_lexer": "ipython3",
   "version": "3.9.7"
  }
 },
 "nbformat": 4,
 "nbformat_minor": 5
}
