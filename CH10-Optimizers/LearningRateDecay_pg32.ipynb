{
 "cells": [
  {
   "cell_type": "markdown",
   "metadata": {},
   "source": [
    "### Learning Rate Decay = 0.1 step = 1"
   ]
  },
  {
   "cell_type": "code",
   "execution_count": 1,
   "metadata": {},
   "outputs": [],
   "source": [
    "starting_learning_rate = 1."
   ]
  },
  {
   "cell_type": "code",
   "execution_count": 2,
   "metadata": {},
   "outputs": [],
   "source": [
    "learning_rate_decay = 0.1"
   ]
  },
  {
   "cell_type": "code",
   "execution_count": 3,
   "metadata": {},
   "outputs": [],
   "source": [
    "step = 1"
   ]
  },
  {
   "cell_type": "code",
   "execution_count": 4,
   "metadata": {},
   "outputs": [],
   "source": [
    "learning_rate = starting_learning_rate * (1. / (1 + learning_rate_decay * step))"
   ]
  },
  {
   "cell_type": "code",
   "execution_count": 5,
   "metadata": {},
   "outputs": [
    {
     "name": "stdout",
     "output_type": "stream",
     "text": [
      "0.9090909090909091\n"
     ]
    }
   ],
   "source": [
    "print(learning_rate)"
   ]
  },
  {
   "cell_type": "markdown",
   "metadata": {},
   "source": [
    "### Learning Rate Decay = 0.1 step = 20"
   ]
  },
  {
   "cell_type": "code",
   "execution_count": 6,
   "metadata": {},
   "outputs": [
    {
     "name": "stdout",
     "output_type": "stream",
     "text": [
      "0.3333333333333333\n"
     ]
    }
   ],
   "source": [
    "starting_learning_rate = 1.\n",
    "learning_rate_decay = 0.1\n",
    "step = 20\n",
    "learning_rate = starting_learning_rate * (1. / (1 + learning_rate_decay * step))\n",
    "print(learning_rate)"
   ]
  },
  {
   "cell_type": "markdown",
   "metadata": {},
   "source": [
    "### Learning Rate Decay = 0.1 step = 20 for loop"
   ]
  },
  {
   "cell_type": "code",
   "execution_count": 8,
   "metadata": {},
   "outputs": [
    {
     "name": "stdout",
     "output_type": "stream",
     "text": [
      "1.0\n",
      "0.9090909090909091\n",
      "0.8333333333333334\n",
      "0.7692307692307692\n",
      "0.7142857142857143\n",
      "0.6666666666666666\n",
      "0.625\n",
      "0.588235294117647\n",
      "0.5555555555555556\n",
      "0.5263157894736842\n",
      "0.5\n",
      "0.47619047619047616\n",
      "0.45454545454545453\n",
      "0.4347826086956522\n",
      "0.41666666666666663\n",
      "0.4\n",
      "0.3846153846153846\n",
      "0.37037037037037035\n",
      "0.35714285714285715\n",
      "0.3448275862068965\n",
      "0.3333333333333333\n",
      "0.3225806451612903\n",
      "0.3125\n",
      "0.303030303030303\n",
      "0.2941176470588235\n",
      "0.2857142857142857\n",
      "0.2777777777777778\n",
      "0.27027027027027023\n",
      "0.2631578947368421\n",
      "0.2564102564102564\n",
      "0.25\n",
      "0.24390243902439027\n",
      "0.23809523809523808\n",
      "0.2325581395348837\n",
      "0.22727272727272727\n",
      "0.2222222222222222\n",
      "0.2173913043478261\n",
      "0.2127659574468085\n",
      "0.20833333333333331\n",
      "0.2040816326530612\n",
      "0.2\n",
      "0.196078431372549\n",
      "0.1923076923076923\n",
      "0.18867924528301888\n",
      "0.18518518518518517\n",
      "0.18181818181818182\n",
      "0.17857142857142855\n",
      "0.17543859649122806\n",
      "0.17241379310344826\n",
      "0.1694915254237288\n",
      "0.16666666666666666\n",
      "0.16393442622950818\n",
      "0.16129032258064516\n",
      "0.15873015873015872\n",
      "0.15625\n",
      "0.15384615384615385\n",
      "0.1515151515151515\n",
      "0.14925373134328357\n",
      "0.14705882352941174\n",
      "0.14492753623188406\n",
      "0.14285714285714285\n",
      "0.1408450704225352\n",
      "0.1388888888888889\n",
      "0.136986301369863\n",
      "0.13513513513513511\n",
      "0.13333333333333333\n",
      "0.13157894736842105\n",
      "0.12987012987012986\n",
      "0.1282051282051282\n",
      "0.12658227848101264\n",
      "0.125\n",
      "0.12345679012345677\n",
      "0.12195121951219513\n",
      "0.12048192771084336\n",
      "0.11904761904761904\n",
      "0.11764705882352941\n",
      "0.11627906976744184\n",
      "0.1149425287356322\n",
      "0.11363636363636363\n",
      "0.11235955056179775\n",
      "0.1111111111111111\n",
      "0.10989010989010989\n",
      "0.10869565217391303\n",
      "0.1075268817204301\n",
      "0.10638297872340426\n",
      "0.10526315789473684\n",
      "0.10416666666666667\n",
      "0.10309278350515463\n",
      "0.1020408163265306\n",
      "0.10101010101010101\n",
      "0.1\n",
      "0.09900990099009901\n",
      "0.0980392156862745\n",
      "0.0970873786407767\n",
      "0.09615384615384615\n",
      "0.09523809523809523\n",
      "0.09433962264150943\n",
      "0.09345794392523364\n",
      "0.09259259259259259\n",
      "0.09174311926605504\n"
     ]
    }
   ],
   "source": [
    "starting_learning_rate = 1.\n",
    "learning_rate_decay = 0.1\n",
    "for step in range(100):\n",
    "    learning_rate = starting_learning_rate * (1. / (1 + learning_rate_decay * step))\n",
    "    print(learning_rate)\n"
   ]
  },
  {
   "cell_type": "code",
   "execution_count": null,
   "metadata": {},
   "outputs": [],
   "source": []
  }
 ],
 "metadata": {
  "kernelspec": {
   "display_name": "Python 3",
   "language": "python",
   "name": "python3"
  },
  "language_info": {
   "codemirror_mode": {
    "name": "ipython",
    "version": 3
   },
   "file_extension": ".py",
   "mimetype": "text/x-python",
   "name": "python",
   "nbconvert_exporter": "python",
   "pygments_lexer": "ipython3",
   "version": "3.8.3"
  }
 },
 "nbformat": 4,
 "nbformat_minor": 4
}
